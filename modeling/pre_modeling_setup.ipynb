{
 "cells": [
  {
   "cell_type": "markdown",
   "metadata": {},
   "source": [
    "# Unified Data Setup, Pre-Modeling"
   ]
  },
  {
   "cell_type": "markdown",
   "metadata": {},
   "source": [
    "By: Jared Berry"
   ]
  },
  {
   "cell_type": "code",
   "execution_count": 1,
   "metadata": {},
   "outputs": [],
   "source": [
    "# Import necessary libraries for data preparation/EDA\n",
    "from sqlalchemy import create_engine\n",
    "import pandas as pd\n",
    "import numpy as np\n",
    "from collections import defaultdict\n",
    "import pickle"
   ]
  },
  {
   "cell_type": "markdown",
   "metadata": {},
   "source": [
    "### Assemble master data set"
   ]
  },
  {
   "cell_type": "code",
   "execution_count": 2,
   "metadata": {},
   "outputs": [],
   "source": [
    "# Connect to PostgresDB and pull in datasets\n",
    "engine = create_engine(\"postgresql://postgres:dfdk#418!@@34.74.173.183/postgres\")"
   ]
  },
  {
   "cell_type": "code",
   "execution_count": 3,
   "metadata": {},
   "outputs": [
    {
     "name": "stdout",
     "output_type": "stream",
     "text": [
      "Yahoo! Finance features:\n",
      "['sno', 'date_of_transaction', 'High', 'Low', 'Open', 'Close', 'Volume', 'AdjClose', 'Symbol', 'Year', 'Month', 'Week', 'Day', 'Dayofweek', 'Dayofyear', 'Is_month_end', 'Is_month_start', 'Is_quarter_end', 'Is_quarter_start', 'Is_year_end', 'Is_year_start', 'Elapsed']\n"
     ]
    }
   ],
   "source": [
    "# Yahoo! Finance\n",
    "yahoo=pd.read_sql_query('select * from stock_price', con=engine)\n",
    "print(\"Yahoo! Finance features:\")\n",
    "print(yahoo.columns.tolist())"
   ]
  },
  {
   "cell_type": "code",
   "execution_count": 4,
   "metadata": {},
   "outputs": [
    {
     "name": "stdout",
     "output_type": "stream",
     "text": [
      "SimFin features:\n",
      "['date', 'ticker', 'qtr_yr', 'cash_from_financing_activities', 'cash_from_investing_activities', 'cash_from_operating_activities', 'cash_from_repayment_of_debt', 'cash_from_repurchase_of_equity', 'change_in_fixed_assets_intangibles', 'change_in_working_capital', 'depreciation_amortization_x', 'net_cash_before_disc_operations_and_fx', 'net_cash_before_fx', 'net_changes_in_cash', 'net_incomestarting_line', 'non_cash_items', 'other_financing_activities', 'gross_profit', 'income_loss_from_continuing_operations', 'income_loss_including_minority_interest', 'income_tax_expense_benefit_net', 'net_income_y', 'net_income_available_to_common_shareholders', 'non_operating_income_loss', 'operating_expenses', 'operating_income_loss', 'pretax_income_loss', 'pretax_income_loss_adjusted', 'revenue', 'accounts_notes_receivable', 'cash_cash_equivalents', 'cash_cash_equivalents_short_term_investments', 'equity_before_minority_interest', 'long_term_debt', 'other_equity', 'other_long_term_assets', 'other_long_term_liabilities', 'other_short_term_assets', 'payables_accruals', 'property_plant_equipment_net', 'retained_earnings', 'share_capital_additional_paid_in_capital', 'total_assets', 'total_current_assets', 'total_current_liabilities', 'total_equity', 'total_liabilities', 'total_liabilities_equity', 'total_noncurrent_assets', 'total_noncurrent_liabilities', 'common_outstanding_basic', 'common_outstanding_diluted', 'date_of_transaction']\n"
     ]
    }
   ],
   "source": [
    "# SimFin Fundamentals\n",
    "simfindaily=pd.read_sql_query('select * from daily_simfin', con=engine)\n",
    "print(\"SimFin features:\")\n",
    "print(simfindaily.columns.tolist())"
   ]
  },
  {
   "cell_type": "code",
   "execution_count": 5,
   "metadata": {},
   "outputs": [
    {
     "name": "stdout",
     "output_type": "stream",
     "text": [
      "Derived features\n",
      "['Symbol', 'Date', 'High', 'Low', 'Open', 'Close', 'Volume', 'AdjClose', 'Pct_Change_Daily', 'Pct_Change_Monthly', 'Pct_Change_Yearly', 'RSI', 'Volatility', 'Yearly_Return_Rank', 'Monthly_Return_Rank', 'Pct_Change_Class', 'Rolling_Yearly_Mean_Positive_Days', 'Rolling_Monthly_Mean_Positive_Days', 'Rolling_Monthly_Mean_Price', 'Rolling_Yearly_Mean_Price', 'Momentum_Quality_Monthly', 'Momentum_Quality_Yearly', 'SPY_Trailing_Month_Return']\n"
     ]
    }
   ],
   "source": [
    "# Derived momentum features\n",
    "momentum=pd.read_sql_query('select * from momentum_features', con=engine)\n",
    "print(\"Derived features\")\n",
    "print(momentum.columns.tolist())"
   ]
  },
  {
   "cell_type": "code",
   "execution_count": 6,
   "metadata": {},
   "outputs": [
    {
     "name": "stdout",
     "output_type": "stream",
     "text": [
      "S&P 500\n",
      "['Sno', 'date_of_transaction', 'High', 'Low', 'Open', 'Close', 'Volume', 'Adj Close', 'symbol', 'Year', 'Month', 'Week', 'Day', 'Dayofweek', 'Dayofyear', 'Is_month_end', 'Is_month_start', 'Is_quarter_end', 'Is_quarter_start', 'Is_year_end', 'Is_year_start', 'Elapsed']\n"
     ]
    }
   ],
   "source": [
    "# S&P 500 index\n",
    "snp = pd.read_sql_query('select * from spy_stock_price', con = engine)\n",
    "print(\"S&P 500\")\n",
    "print(snp.columns.tolist())"
   ]
  },
  {
   "cell_type": "code",
   "execution_count": 7,
   "metadata": {},
   "outputs": [],
   "source": [
    "# Some quick fixes on keys\n",
    "simfindaily['date_of_transaction'] = simfindaily['date']\n",
    "simfindaily.drop('date', axis=1, inplace=True) \n",
    "\n",
    "yahoo['ticker'] = yahoo['Symbol']\n",
    "yahoo.drop('Symbol', axis=1, inplace=True)\n",
    "\n",
    "momentum['ticker'] = momentum['Symbol']\n",
    "momentum['date_of_transaction'] = momentum['Date']\n",
    "momentum.drop(['Symbol', 'Date', 'High', 'Low', \n",
    "               'Open', 'Close', 'Volume', 'AdjClose'], \n",
    "              axis=1, inplace=True)\n",
    "\n",
    "snp['snp500_close'] = snp['Adj Close']\n",
    "snp['snp500_open'] = snp['Open']\n",
    "snp = snp[['date_of_transaction', 'snp500_close', 'snp500_open']]"
   ]
  },
  {
   "cell_type": "code",
   "execution_count": 8,
   "metadata": {},
   "outputs": [],
   "source": [
    "# Merge\n",
    "df = pd.merge(yahoo, momentum, on=['ticker', 'date_of_transaction'])\n",
    "df = pd.merge(df, simfindaily, how='left', on=['ticker', 'date_of_transaction'])"
   ]
  },
  {
   "cell_type": "code",
   "execution_count": 9,
   "metadata": {},
   "outputs": [
    {
     "data": {
      "text/html": [
       "<div>\n",
       "<style scoped>\n",
       "    .dataframe tbody tr th:only-of-type {\n",
       "        vertical-align: middle;\n",
       "    }\n",
       "\n",
       "    .dataframe tbody tr th {\n",
       "        vertical-align: top;\n",
       "    }\n",
       "\n",
       "    .dataframe thead th {\n",
       "        text-align: right;\n",
       "    }\n",
       "</style>\n",
       "<table border=\"1\" class=\"dataframe\">\n",
       "  <thead>\n",
       "    <tr style=\"text-align: right;\">\n",
       "      <th></th>\n",
       "      <th>sno</th>\n",
       "      <th>date_of_transaction</th>\n",
       "      <th>High</th>\n",
       "      <th>Low</th>\n",
       "      <th>Open</th>\n",
       "      <th>Close</th>\n",
       "      <th>Volume</th>\n",
       "      <th>AdjClose</th>\n",
       "      <th>Year</th>\n",
       "      <th>Month</th>\n",
       "      <th>...</th>\n",
       "      <th>total_assets</th>\n",
       "      <th>total_current_assets</th>\n",
       "      <th>total_current_liabilities</th>\n",
       "      <th>total_equity</th>\n",
       "      <th>total_liabilities</th>\n",
       "      <th>total_liabilities_equity</th>\n",
       "      <th>total_noncurrent_assets</th>\n",
       "      <th>total_noncurrent_liabilities</th>\n",
       "      <th>common_outstanding_basic</th>\n",
       "      <th>common_outstanding_diluted</th>\n",
       "    </tr>\n",
       "  </thead>\n",
       "  <tbody>\n",
       "    <tr>\n",
       "      <th>0</th>\n",
       "      <td>22334</td>\n",
       "      <td>2011-01-03</td>\n",
       "      <td>30.143061</td>\n",
       "      <td>29.620888</td>\n",
       "      <td>29.728184</td>\n",
       "      <td>29.957081</td>\n",
       "      <td>4994000.0</td>\n",
       "      <td>27.591616</td>\n",
       "      <td>2011</td>\n",
       "      <td>1</td>\n",
       "      <td>...</td>\n",
       "      <td>NaN</td>\n",
       "      <td>NaN</td>\n",
       "      <td>NaN</td>\n",
       "      <td>NaN</td>\n",
       "      <td>NaN</td>\n",
       "      <td>NaN</td>\n",
       "      <td>NaN</td>\n",
       "      <td>NaN</td>\n",
       "      <td>NaN</td>\n",
       "      <td>NaN</td>\n",
       "    </tr>\n",
       "    <tr>\n",
       "      <th>1</th>\n",
       "      <td>22335</td>\n",
       "      <td>2011-01-04</td>\n",
       "      <td>30.114449</td>\n",
       "      <td>29.456366</td>\n",
       "      <td>30.035765</td>\n",
       "      <td>29.678112</td>\n",
       "      <td>5017200.0</td>\n",
       "      <td>27.334681</td>\n",
       "      <td>2011</td>\n",
       "      <td>1</td>\n",
       "      <td>...</td>\n",
       "      <td>NaN</td>\n",
       "      <td>NaN</td>\n",
       "      <td>NaN</td>\n",
       "      <td>NaN</td>\n",
       "      <td>NaN</td>\n",
       "      <td>NaN</td>\n",
       "      <td>NaN</td>\n",
       "      <td>NaN</td>\n",
       "      <td>NaN</td>\n",
       "      <td>NaN</td>\n",
       "    </tr>\n",
       "    <tr>\n",
       "      <th>2</th>\n",
       "      <td>22336</td>\n",
       "      <td>2011-01-05</td>\n",
       "      <td>29.849785</td>\n",
       "      <td>29.327610</td>\n",
       "      <td>29.513592</td>\n",
       "      <td>29.613733</td>\n",
       "      <td>4519000.0</td>\n",
       "      <td>27.275387</td>\n",
       "      <td>2011</td>\n",
       "      <td>1</td>\n",
       "      <td>...</td>\n",
       "      <td>NaN</td>\n",
       "      <td>NaN</td>\n",
       "      <td>NaN</td>\n",
       "      <td>NaN</td>\n",
       "      <td>NaN</td>\n",
       "      <td>NaN</td>\n",
       "      <td>NaN</td>\n",
       "      <td>NaN</td>\n",
       "      <td>NaN</td>\n",
       "      <td>NaN</td>\n",
       "    </tr>\n",
       "    <tr>\n",
       "      <th>3</th>\n",
       "      <td>22337</td>\n",
       "      <td>2011-01-06</td>\n",
       "      <td>29.928469</td>\n",
       "      <td>29.477825</td>\n",
       "      <td>29.592276</td>\n",
       "      <td>29.670958</td>\n",
       "      <td>4699000.0</td>\n",
       "      <td>27.328091</td>\n",
       "      <td>2011</td>\n",
       "      <td>1</td>\n",
       "      <td>...</td>\n",
       "      <td>NaN</td>\n",
       "      <td>NaN</td>\n",
       "      <td>NaN</td>\n",
       "      <td>NaN</td>\n",
       "      <td>NaN</td>\n",
       "      <td>NaN</td>\n",
       "      <td>NaN</td>\n",
       "      <td>NaN</td>\n",
       "      <td>NaN</td>\n",
       "      <td>NaN</td>\n",
       "    </tr>\n",
       "    <tr>\n",
       "      <th>4</th>\n",
       "      <td>22338</td>\n",
       "      <td>2011-01-07</td>\n",
       "      <td>29.899857</td>\n",
       "      <td>29.356224</td>\n",
       "      <td>29.699572</td>\n",
       "      <td>29.771101</td>\n",
       "      <td>3810900.0</td>\n",
       "      <td>27.420322</td>\n",
       "      <td>2011</td>\n",
       "      <td>1</td>\n",
       "      <td>...</td>\n",
       "      <td>NaN</td>\n",
       "      <td>NaN</td>\n",
       "      <td>NaN</td>\n",
       "      <td>NaN</td>\n",
       "      <td>NaN</td>\n",
       "      <td>NaN</td>\n",
       "      <td>NaN</td>\n",
       "      <td>NaN</td>\n",
       "      <td>NaN</td>\n",
       "      <td>NaN</td>\n",
       "    </tr>\n",
       "  </tbody>\n",
       "</table>\n",
       "<p>5 rows × 87 columns</p>\n",
       "</div>"
      ],
      "text/plain": [
       "     sno date_of_transaction       High        Low       Open      Close  \\\n",
       "0  22334          2011-01-03  30.143061  29.620888  29.728184  29.957081   \n",
       "1  22335          2011-01-04  30.114449  29.456366  30.035765  29.678112   \n",
       "2  22336          2011-01-05  29.849785  29.327610  29.513592  29.613733   \n",
       "3  22337          2011-01-06  29.928469  29.477825  29.592276  29.670958   \n",
       "4  22338          2011-01-07  29.899857  29.356224  29.699572  29.771101   \n",
       "\n",
       "      Volume   AdjClose  Year  Month  ...  total_assets  total_current_assets  \\\n",
       "0  4994000.0  27.591616  2011      1  ...           NaN                   NaN   \n",
       "1  5017200.0  27.334681  2011      1  ...           NaN                   NaN   \n",
       "2  4519000.0  27.275387  2011      1  ...           NaN                   NaN   \n",
       "3  4699000.0  27.328091  2011      1  ...           NaN                   NaN   \n",
       "4  3810900.0  27.420322  2011      1  ...           NaN                   NaN   \n",
       "\n",
       "   total_current_liabilities  total_equity  total_liabilities  \\\n",
       "0                        NaN           NaN                NaN   \n",
       "1                        NaN           NaN                NaN   \n",
       "2                        NaN           NaN                NaN   \n",
       "3                        NaN           NaN                NaN   \n",
       "4                        NaN           NaN                NaN   \n",
       "\n",
       "   total_liabilities_equity  total_noncurrent_assets  \\\n",
       "0                       NaN                      NaN   \n",
       "1                       NaN                      NaN   \n",
       "2                       NaN                      NaN   \n",
       "3                       NaN                      NaN   \n",
       "4                       NaN                      NaN   \n",
       "\n",
       "   total_noncurrent_liabilities  common_outstanding_basic  \\\n",
       "0                           NaN                       NaN   \n",
       "1                           NaN                       NaN   \n",
       "2                           NaN                       NaN   \n",
       "3                           NaN                       NaN   \n",
       "4                           NaN                       NaN   \n",
       "\n",
       "   common_outstanding_diluted  \n",
       "0                         NaN  \n",
       "1                         NaN  \n",
       "2                         NaN  \n",
       "3                         NaN  \n",
       "4                         NaN  \n",
       "\n",
       "[5 rows x 87 columns]"
      ]
     },
     "execution_count": 9,
     "metadata": {},
     "output_type": "execute_result"
    }
   ],
   "source": [
    "df = df.sort_values(['ticker','date_of_transaction']).reset_index(drop = True)\n",
    "df.head()"
   ]
  },
  {
   "cell_type": "code",
   "execution_count": 10,
   "metadata": {},
   "outputs": [],
   "source": [
    "# Pull out the tickers\n",
    "tickers = df['ticker'].unique().tolist()"
   ]
  },
  {
   "cell_type": "markdown",
   "metadata": {},
   "source": [
    "### Combined data set feature engineering"
   ]
  },
  {
   "cell_type": "code",
   "execution_count": 11,
   "metadata": {},
   "outputs": [],
   "source": [
    "# Construct some aggregate financial ratios from the SimFin data\n",
    "df['eps'] = df['net_income_y'] / df['common_outstanding_basic']\n",
    "df['pe_ratio'] = df['AdjClose'] / df['eps']\n",
    "df['debt_ratio'] = df['total_liabilities'] / df['total_equity']\n",
    "df['debt_to_equity'] = df['total_liabilities'] / df['total_equity']\n",
    "df['roa'] = df['net_income_y'] / df['total_assets']"
   ]
  },
  {
   "cell_type": "code",
   "execution_count": 12,
   "metadata": {},
   "outputs": [],
   "source": [
    "# Construct some additional ticker-level returns features\n",
    "df['open_l1'] = df.groupby('ticker')['Open'].shift(1)\n",
    "df['open_l5'] = df.groupby('ticker')['Open'].shift(5)\n",
    "df['open_l10'] = df.groupby('ticker')['Open'].shift(10)\n",
    "\n",
    "df['return_prev1_open_raw'] = 100*(df['Open'] - df['open_l1'])/df['open_l1']\n",
    "df['return_prev5_open_raw'] = 100*(df['Open'] - df['open_l5'])/df['open_l5']\n",
    "df['return_prev10_open_raw'] = 100*(df['Open'] - df['open_l10'])/df['open_l10']\n",
    "\n",
    "df['close_l1'] = df.groupby('ticker')['AdjClose'].shift(1)\n",
    "df['close_l5'] = df.groupby('ticker')['AdjClose'].shift(5)\n",
    "df['close_l10'] = df.groupby('ticker')['AdjClose'].shift(10)\n",
    "\n",
    "df['return_prev1_close_raw'] = 100*(df['AdjClose'] - df['close_l1'])/df['close_l1']\n",
    "df['return_prev5_close_raw'] = 100*(df['AdjClose'] - df['close_l5'])/df['close_l5']\n",
    "df['return_prev10_close_raw'] = 100*(df['AdjClose'] - df['close_l10'])/df['close_l10']"
   ]
  },
  {
   "cell_type": "code",
   "execution_count": 14,
   "metadata": {},
   "outputs": [],
   "source": [
    "# Compute market betas\n",
    "betas = np.empty(df.shape[0])\n",
    "for t in tickers:\n",
    "    idx = df['ticker'].loc[df['ticker'] == t].index.tolist()\n",
    "    x_t = df[['date_of_transaction', 'AdjClose']].iloc[idx]\n",
    "\n",
    "    x_t = pd.merge(x_t, snp, on='date_of_transaction').sort_values('date_of_transaction')\n",
    "\n",
    "    market_return = np.array(x_t['snp500_close'].tolist())\n",
    "    asset_return = np.array(x_t['AdjClose'].tolist())\n",
    "\n",
    "    beta_vector = np.empty(len(asset_return)) * np.nan\n",
    "    i = 21\n",
    "    while i < len(beta_vector):\n",
    "        beta_vector[i] = np.cov(market_return[:(i-1)], asset_return[:(i-1)])[0,1] / np.var(market_return[:(i-1)])\n",
    "        i += 1\n",
    "        \n",
    "    betas[idx] = beta_vector\n",
    "    \n",
    "df['beta'] = betas"
   ]
  },
  {
   "cell_type": "code",
   "execution_count": 15,
   "metadata": {},
   "outputs": [],
   "source": [
    "# Features to smooth\n",
    "to_smooth = ['High', 'Low', 'Open', 'Close', 'Volume', 'AdjClose', 'Pct_Change_Daily',\n",
    "            'Pct_Change_Monthly', 'Pct_Change_Yearly', 'RSI', 'Volatility',\n",
    "            'Yearly_Return_Rank', 'Monthly_Return_Rank', 'Pct_Change_Class',\n",
    "            'Rolling_Yearly_Mean_Positive_Days', 'Rolling_Monthly_Mean_Positive_Days', \n",
    "            'Rolling_Monthly_Mean_Price', 'Rolling_Yearly_Mean_Price',\n",
    "            'open_l1', 'open_l5', 'open_l10', 'close_l1', 'close_l5', 'close_l10',\n",
    "            'return_prev1_open_raw', 'return_prev5_open_raw', 'return_prev10_open_raw',\n",
    "            'return_prev1_close_raw', 'return_prev5_close_raw', 'return_prev10_close_raw',\n",
    "            'pe_ratio', 'debt_ratio', 'debt_to_equity', 'roa', 'Momentum_Quality_Monthly', \n",
    "             'Momentum_Quality_Yearly', 'SPY_Trailing_Month_Return'\n",
    "            ]"
   ]
  },
  {
   "cell_type": "code",
   "execution_count": null,
   "metadata": {},
   "outputs": [],
   "source": [
    "# Create smoothed variants of specified features\n",
    "for feature in to_smooth:\n",
    "    x_to_smooth = np.array(df[feature].tolist())\n",
    "    col = feature + \"_smoothed\"\n",
    "    for t in tickers:\n",
    "        idx = df['ticker'].loc[df['ticker'] == t].index.tolist()\n",
    "        x_t = np.array(x_to_smooth[idx].tolist())\n",
    "\n",
    "        # Compute EMA smoothing of target within ticker\n",
    "        EMA = 0\n",
    "        gamma_ = 0.5\n",
    "        for ti in range(len(x_t)):\n",
    "            EMA = gamma_*x_t[ti] + (1-gamma_)*EMA\n",
    "            x_t[ti] = EMA\n",
    "\n",
    "        x_to_smooth[idx] = x_t\n",
    "    df[col] = x_to_smooth"
   ]
  },
  {
   "cell_type": "code",
   "execution_count": 16,
   "metadata": {},
   "outputs": [],
   "source": [
    "# Hash the ticker to create a categorical feature\n",
    "from sklearn.feature_extraction import FeatureHasher\n",
    "h = FeatureHasher(n_features = len(tickers), input_type = 'string')\n",
    "f = h.transform(df['ticker'])\n",
    "ticker_features = f.toarray()"
   ]
  },
  {
   "cell_type": "code",
   "execution_count": 17,
   "metadata": {},
   "outputs": [],
   "source": [
    "# Remove the quarter of pre-SimFin data\n",
    "train = df[df['date_of_transaction'] >= '2011-03-31'].reset_index(drop=True)"
   ]
  },
  {
   "cell_type": "markdown",
   "metadata": {},
   "source": [
    "### Target generation"
   ]
  },
  {
   "cell_type": "markdown",
   "metadata": {},
   "source": [
    "We construct a series of potential targets to frame our classification exercise. Return variants are binarized in modeling frameworks, allowing for the application of possible smoothing frameworks.\n",
    "\n",
    "The n-day ahead return is calculated as:\n",
    "$$target_{t,i} = \\frac{AdjClose_{t+n,i} - AdjClose_{t,i}}{AdjClose_{t,i}}$$\n",
    "\n",
    "The average, returns for all periods within the next n-days (relative to today) is calculated as:\n",
    "$$target_{t,i} = (\\frac{1}{n})\\sum_{k=1}^n \\frac{AdjClose_{t+k,i} - AdjClose_{t,i}}{AdjClose_{t,i}}$$\n",
    "\n",
    "The q-day moving average of n-day ahead raw returns, relative to today is calculated as:\n",
    "$$target_{t,i,q} = \\frac{AdjClose_{t+n,i} - AdjClose_{t,i}}{AdjClose_{t,i}}, MA(q)$$\n",
    "\n",
    "Relative variants are relative to the S&P 500 over the same n-day horizon.\n",
    "'Up' and 'Rank' variants are calculated without computing returns over the same n-day horizon, and binarized."
   ]
  },
  {
   "cell_type": "code",
   "execution_count": 20,
   "metadata": {},
   "outputs": [],
   "source": [
    "# At the ticker level, lead the AdjClose column by n-trading days\n",
    "target_gen = train[['ticker', 'date_of_transaction', 'AdjClose', 'Monthly_Return_Rank', 'beta']]\n",
    "target_gen = pd.merge(target_gen, snp, on='date_of_transaction')"
   ]
  },
  {
   "cell_type": "code",
   "execution_count": 21,
   "metadata": {},
   "outputs": [],
   "source": [
    "# Loop over specified horizons to generate a number of possible targets\n",
    "horizons = [1,5,10,21]\n",
    "rank_threshold = 100\n",
    "target_dict = defaultdict(list)\n",
    "for h in horizons:\n",
    "    n = h # n-day ahead return\n",
    "    q = h # q-day window\n",
    "    \n",
    "    # At the ticker level, lead the AdjClose column n-trading days\n",
    "    AdjClose_ahead = target_gen.groupby('ticker')['AdjClose'].shift(-n)\n",
    "    AdjClose_ahead.name = 'AdjClose_ahead'\n",
    "    \n",
    "    snp_ahead = target_gen.groupby('ticker')['snp500_close'].shift(-n)\n",
    "    snp_ahead.name = 'snp_ahead'\n",
    "    \n",
    "    # Raw returns\n",
    "    target_return = np.array(100*((AdjClose_ahead - target_gen['AdjClose'])/target_gen['AdjClose']))\n",
    "    \n",
    "    # Market residualized returns\n",
    "    target_return_res = target_return - np.array(target_gen['beta'].tolist())*target_return\n",
    "    \n",
    "    # Computing all of the returns for the next 21 days (month) relative to today\n",
    "    aheads = []\n",
    "    for i in range(0,n+1):\n",
    "        AdjClose_ahead_i = target_gen.groupby('ticker')['AdjClose'].shift(-i)\n",
    "        aheads.append(np.array(100*((AdjClose_ahead_i - target_gen['AdjClose'])/target_gen['AdjClose'])))\n",
    "    \n",
    "    # Composite, average returns\n",
    "    target_composite = np.array(pd.DataFrame(aheads).mean(axis=0, skipna=False).tolist())\n",
    "    \n",
    "    # q-day moving average of n-day ahead returns, where n=q\n",
    "    target_gen['returns_ahead'] = 100*((AdjClose_ahead - target_gen['AdjClose'])/target_gen['AdjClose'])\n",
    "    target_average = np.array(target_gen.groupby('ticker')['returns_ahead'].rolling(q).mean())\n",
    "    \n",
    "    # Rank target, binarized\n",
    "    target_rank = target_gen.groupby('ticker')['Monthly_Return_Rank'].shift(-n)\n",
    "    target_rank = np.where(np.isnan(target_rank), np.nan,\n",
    "                  np.where(target_rank < rank_threshold, 1, 0))\n",
    "    target_rank = target_rank.tolist()\n",
    "    \n",
    "    # Simple 'up' target, relative to today\n",
    "    target_up = np.where(np.isnan(AdjClose_ahead), np.nan,\n",
    "                np.where(AdjClose_ahead > target_gen['AdjClose'], 1, 0))\n",
    "    target_up = target_up.tolist()\n",
    "    \n",
    "    # Returns, relative to the S&P 500\n",
    "    snp_return = np.array(100*((snp_ahead - target_gen['snp500_close'])/target_gen['snp500_close']))\n",
    "    target_rel_return = target_return - snp_return\n",
    "    \n",
    "    # Generate keys based on horizon\n",
    "    return_key = \"target_{}_return\".format(n)\n",
    "    return_res_key = \"target_{}_return_res\".format(n)\n",
    "    composite_key = \"target_{}_composite\".format(n)\n",
    "    average_key = \"target_{}_average\".format(n)\n",
    "    rank_key = \"target_{}_rank\".format(n)\n",
    "    up_key = \"target_{}_up\".format(n)\n",
    "    rel_return_key = \"target_{}_rel_return\".format(n)\n",
    "    \n",
    "    # Store\n",
    "    target_dict[return_key] = target_return\n",
    "    target_dict[return_res_key] = target_return_res\n",
    "    target_dict[composite_key] = target_composite\n",
    "    target_dict[average_key] = target_average\n",
    "    target_dict[rank_key] = target_rank\n",
    "    target_dict[up_key] = target_up\n",
    "    target_dict[rel_return_key] = target_rel_return"
   ]
  },
  {
   "cell_type": "code",
   "execution_count": 22,
   "metadata": {},
   "outputs": [],
   "source": [
    "# Add features to dictionary prior to export\n",
    "target_dict['features'] = train\n",
    "target_dict['ticker_features'] = ticker_features"
   ]
  },
  {
   "cell_type": "code",
   "execution_count": 23,
   "metadata": {},
   "outputs": [],
   "source": [
    "# Export\n",
    "outpath = \"model_dictionary.pickle\"\n",
    "with open(outpath, 'wb') as f:\n",
    "    pickle.dump(target_dict, f)"
   ]
  },
  {
   "cell_type": "code",
   "execution_count": null,
   "metadata": {},
   "outputs": [],
   "source": []
  }
 ],
 "metadata": {
  "kernelspec": {
   "display_name": "Python 3",
   "language": "python",
   "name": "python3"
  },
  "language_info": {
   "codemirror_mode": {
    "name": "ipython",
    "version": 3
   },
   "file_extension": ".py",
   "mimetype": "text/x-python",
   "name": "python",
   "nbconvert_exporter": "python",
   "pygments_lexer": "ipython3",
   "version": "3.7.3"
  }
 },
 "nbformat": 4,
 "nbformat_minor": 2
}
