{
 "cells": [
  {
   "cell_type": "markdown",
   "metadata": {},
   "source": [
    "# Passive Stock Fund Optimization - Ticker-level Prediction Product"
   ]
  },
  {
   "cell_type": "code",
   "execution_count": 2,
   "metadata": {},
   "outputs": [],
   "source": [
    "# Quality of life\n",
    "import os\n",
    "import time\n",
    "import warnings\n",
    "from collections import defaultdict\n",
    "\n",
    "# I/O and data structures\n",
    "import pickle\n",
    "import pandas as pd\n",
    "import numpy as np\n",
    "\n",
    "# Classification models\n",
    "from sklearn.linear_model import LogisticRegression\n",
    "from sklearn.linear_model import RidgeClassifier\n",
    "from sklearn.svm import SVC\n",
    "from sklearn.neighbors import KNeighborsClassifier\n",
    "from sklearn.ensemble import RandomForestClassifier\n",
    "from sklearn.ensemble import GradientBoostingClassifier\n",
    "from lightgbm import LGBMClassifier\n",
    "\n",
    "# Model selection\n",
    "from sklearn.model_selection import KFold\n",
    "from sklearn.model_selection import TimeSeriesSplit\n",
    "from sklearn.model_selection import GridSearchCV\n",
    "\n",
    "# Evaluation\n",
    "from sklearn import metrics\n",
    "\n",
    "# Visualization\n",
    "import matplotlib.pyplot as plt\n",
    "import seaborn as sns"
   ]
  },
  {
   "cell_type": "code",
   "execution_count": 3,
   "metadata": {},
   "outputs": [],
   "source": [
    "# Magic\n",
    "%matplotlib inline\n",
    "%load_ext pycodestyle_magic\n",
    "sns.set_style('darkgrid')"
   ]
  },
  {
   "cell_type": "code",
   "execution_count": 4,
   "metadata": {},
   "outputs": [],
   "source": [
    "warnings.filterwarnings('ignore')"
   ]
  },
  {
   "cell_type": "markdown",
   "metadata": {},
   "source": [
    "## Set-up"
   ]
  },
  {
   "cell_type": "markdown",
   "metadata": {},
   "source": [
    "#### Imports"
   ]
  },
  {
   "cell_type": "code",
   "execution_count": 5,
   "metadata": {},
   "outputs": [],
   "source": [
    "# Import modeling helper functions\n",
    "from modeling_funcs import *"
   ]
  },
  {
   "cell_type": "code",
   "execution_count": 6,
   "metadata": {},
   "outputs": [],
   "source": [
    "# Import\n",
    "inpath = \"model_dictionary.pickle\"\n",
    "with open(inpath, 'rb') as f:\n",
    "    modeling = pickle.load(f)"
   ]
  },
  {
   "cell_type": "code",
   "execution_count": 7,
   "metadata": {},
   "outputs": [],
   "source": [
    "# Pull out the features dataframe\n",
    "train = modeling['features']"
   ]
  },
  {
   "cell_type": "code",
   "execution_count": 8,
   "metadata": {},
   "outputs": [],
   "source": [
    "# Remove tickers with fewer than 5-years worth of data\n",
    "ticker_counts = train['ticker'].value_counts().reset_index().rename({'ticker':'count','index':'ticker'}, axis=1)\n",
    "keep_tickers = ticker_counts.loc[ticker_counts['count'] >= (252*5), 'ticker'].tolist()\n",
    "keep_idx = train['ticker'].isin(keep_tickers)\n",
    "train = train[keep_idx]"
   ]
  },
  {
   "cell_type": "markdown",
   "metadata": {},
   "source": [
    "#### Feature selection"
   ]
  },
  {
   "cell_type": "code",
   "execution_count": 9,
   "metadata": {},
   "outputs": [],
   "source": [
    "# Set a feature selection list\n",
    "features = ['High', 'Low', 'Close', 'Volume', 'AdjClose', 'Week', 'Dayofyear', \n",
    "            'Pct_Change_Monthly', 'Pct_Change_Yearly', 'RSI', 'Volatility',\n",
    "            'Yearly_Return_Rank', 'Monthly_Return_Rank',\n",
    "            'Rolling_Yearly_Mean_Positive_Days', 'Rolling_Monthly_Mean_Positive_Days', \n",
    "            'Rolling_Monthly_Mean_Price', 'Rolling_Yearly_Mean_Price',\n",
    "            'Momentum_Quality_Monthly', 'Momentum_Quality_Yearly', 'SPY_Trailing_Month_Return',\n",
    "            'open_l10',  'return_prev5_close_raw', 'return_prev10_close_raw',\n",
    "            'pe_ratio', 'debt_ratio', 'roa',\n",
    "            'beta']"
   ]
  },
  {
   "cell_type": "code",
   "execution_count": 10,
   "metadata": {},
   "outputs": [],
   "source": [
    "# Select on features to pass to modeling machinery, along with necessary indexers\n",
    "X = train[features]\n",
    "tickers = train['ticker'].unique().tolist()"
   ]
  },
  {
   "cell_type": "code",
   "execution_count": 11,
   "metadata": {},
   "outputs": [],
   "source": [
    "# Choose a ticker - remove the tickers as above\n",
    "target = modeling['target_21_rel_return']\n",
    "target = target[keep_idx]"
   ]
  },
  {
   "cell_type": "markdown",
   "metadata": {},
   "source": [
    "# Modeling\n",
    "\n",
    "## Ticker-level"
   ]
  },
  {
   "cell_type": "code",
   "execution_count": 39,
   "metadata": {},
   "outputs": [],
   "source": [
    "t = 'AAPL'"
   ]
  },
  {
   "cell_type": "code",
   "execution_count": 42,
   "metadata": {},
   "outputs": [
    {
     "name": "stdout",
     "output_type": "stream",
     "text": [
      "\n",
      "0 targets changed by smoothing.\n",
      "Training model on validation split #1\n",
      "Training model on validation split #2\n",
      "Training model on validation split #3\n",
      "Training model on validation split #4\n",
      "Training model on validation split #5\n",
      "Training model on validation split #6\n",
      "Training model on validation split #7\n",
      "Training model on validation split #8\n",
      "Training model on validation split #9\n",
      "Training model on validation split #10\n",
      "Training model on validation split #11\n",
      "Training model on validation split #12\n",
      "Build, hyperparameter selection, and validation of LGBM Classifier took 5.085 seconds\n",
      "\n",
      "Average AUC across 12 splits: 0.5763516759328878\n",
      "('beta', 77.75000000000001)\n",
      "('Rolling_Yearly_Mean_Price', 77.08333333333333)\n",
      "('Dayofyear', 73.66666666666666)\n",
      "('Volatility', 55.41666666666667)\n",
      "('Momentum_Quality_Yearly', 50.5)\n",
      "('Rolling_Monthly_Mean_Price', 49.25000000000001)\n"
     ]
    }
   ],
   "source": [
    "# Pull only feature/target data for the relevant ticker\n",
    "X_t = X.loc[train['ticker'] == t,:]\n",
    "y_t = np.array(target)[train['ticker'] == t]\n",
    "    \n",
    "# Indexes of hold-out test data (the 21 days of data preceding the present day)\n",
    "test_idx = np.where(np.isnan(y_t))[0].tolist()\n",
    "\n",
    "# Simple feature-scaling - for now, replace missings with 0 (i.e. the mean of a normalized feature)\n",
    "X_t = X_t.apply(lambda x: (x - np.mean(x))/np.std(x)).fillna(0)\n",
    "\n",
    "# Remove hold-out test data\n",
    "y_t = np.delete(y_t, test_idx)\n",
    "X_t_holdout = X_t.loc[X_t.index[test_idx]]\n",
    "X_t = X_t.drop(X_t.index[test_idx])\n",
    "    \n",
    "# Fit and evaluate\n",
    "model_dict = fit_lgbm_classifier(X_t, \n",
    "                                 y_t,\n",
    "                                 X_t_holdout, \n",
    "                                 ticker=t, \n",
    "                                 ema_gamma=1, \n",
    "                                 n_splits=12,\n",
    "                                 cv_method='ts', \n",
    "                                 labeled=False,\n",
    "                                 param_search=None,\n",
    "                                 holdout_method='distributed',\n",
    "                                 threshold_search=True,\n",
    "                                 export=False)"
   ]
  },
  {
   "cell_type": "code",
   "execution_count": 41,
   "metadata": {},
   "outputs": [
    {
     "data": {
      "image/png": "[encoded data removed]",
      "text/plain": [
       "<Figure size 576x288 with 1 Axes>"
      ]
     },
     "metadata": {},
     "output_type": "display_data"
    }
   ],
   "source": [
    "fig, ax = plt.subplots(figsize=(8,4))\n",
    "\n",
    "ticker_dates = train.loc[train['ticker'] == t,'date_of_transaction']\n",
    "\n",
    "x = pd.Series(y_t)\n",
    "#print(x)#x.index = pd.to_datetime(ticker_dates[:len(x)])\n",
    "#print(x)\n",
    "bounds = [max(x), min(x)]\n",
    "top_rug = bounds[0]*model_dict['preds_df']['expected']\n",
    "bottom_rug = -min(x)*(model_dict['preds_df']['expected']-1)\n",
    "top_rug = np.where(top_rug == 0, np.nan, top_rug)\n",
    "bottom_rug = np.where(bottom_rug == 0, np.nan, bottom_rug)\n",
    "ax.plot(x.index, x, color='k')\n",
    "\n",
    "ax.plot(bottom_rug, '|', color='r')\n",
    "ax.plot(top_rug, '|', color='g')\n",
    "plt.show()"
   ]
  },
  {
   "cell_type": "code",
   "execution_count": null,
   "metadata": {},
   "outputs": [],
   "source": []
  },
  {
   "cell_type": "code",
   "execution_count": 37,
   "metadata": {},
   "outputs": [
    {
     "name": "stdout",
     "output_type": "stream",
     "text": [
      "High five! You successfully sent some data to your account on plotly. View your plot in your browser at https://plot.ly/~jarbis_/0 or inside your plot.ly account where it is named 'Time Series with Rangeslider'\n"
     ]
    },
    {
     "data": {
      "text/html": [
       "<iframe id=\"igraph\" scrolling=\"no\" style=\"border:none;\" seamless=\"seamless\" src=\"https://plot.ly/~jarbis_/0.embed\" height=\"525px\" width=\"100%\"></iframe>"
      ],
      "text/plain": [
       "<chart_studio.tools.PlotlyDisplay object>"
      ]
     },
     "execution_count": 37,
     "metadata": {},
     "output_type": "execute_result"
    }
   ],
   "source": [
    "import plotly.plotly as py\n",
    "import plotly.graph_objs as go\n",
    "\n",
    "import pandas as pd\n",
    "\n",
    "trace_high = go.Scatter(\n",
    "    x=pd.to_datetime(ticker_dates[:len(x)]),\n",
    "    y=x,\n",
    "    name = t,\n",
    "    line = dict(color = '#17BECF'),\n",
    "    opacity = 0.8)\n",
    "\n",
    "data = [trace_high]\n",
    "\n",
    "layout = dict(\n",
    "    title='Time Series with Rangeslider',\n",
    "    xaxis=dict(\n",
    "        rangeselector=dict(\n",
    "            buttons=list([\n",
    "                dict(count=1,\n",
    "                     label='1m',\n",
    "                     step='month',\n",
    "                     stepmode='backward'),\n",
    "                dict(count=6,\n",
    "                     label='6m',\n",
    "                     step='month',\n",
    "                     stepmode='backward'),\n",
    "                dict(step='all')\n",
    "            ])\n",
    "        ),\n",
    "        rangeslider=dict(\n",
    "            visible = True\n",
    "        ),\n",
    "        type='date'\n",
    "    )\n",
    ")\n",
    "\n",
    "fig = dict(data=data, layout=layout)\n",
    "py.iplot(fig, filename = \"Time Series with Rangeslider\")"
   ]
  },
  {
   "cell_type": "code",
   "execution_count": 36,
   "metadata": {},
   "outputs": [],
   "source": [
    "import plotly\n",
    "plotly.tools.set_credentials_file(username='jarbis_', api_key='ioNPenrXvgS79jPwqUsM')"
   ]
  },
  {
   "cell_type": "code",
   "execution_count": null,
   "metadata": {},
   "outputs": [],
   "source": [
    "pd.to_"
   ]
  }
 ],
 "metadata": {
  "kernelspec": {
   "display_name": "Python 3",
   "language": "python",
   "name": "python3"
  },
  "language_info": {
   "codemirror_mode": {
    "name": "ipython",
    "version": 3
   },
   "file_extension": ".py",
   "mimetype": "text/x-python",
   "name": "python",
   "nbconvert_exporter": "python",
   "pygments_lexer": "ipython3",
   "version": "3.7.3"
  }
 },
 "nbformat": 4,
 "nbformat_minor": 2
}
