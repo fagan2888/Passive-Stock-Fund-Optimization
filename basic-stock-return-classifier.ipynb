{
 "cells": [
  {
   "cell_type": "code",
   "execution_count": 1,
   "metadata": {},
   "outputs": [
    {
     "ename": "ModuleNotFoundError",
     "evalue": "No module named 'taIndicators'",
     "output_type": "error",
     "traceback": [
      "\u001b[0;31m---------------------------------------------------------------------------\u001b[0m",
      "\u001b[0;31mModuleNotFoundError\u001b[0m                       Traceback (most recent call last)",
      "\u001b[0;32m<ipython-input-1-8714f3a2f71e>\u001b[0m in \u001b[0;36m<module>\u001b[0;34m\u001b[0m\n\u001b[1;32m      4\u001b[0m \u001b[0;32mimport\u001b[0m \u001b[0mpandas\u001b[0m \u001b[0;32mas\u001b[0m \u001b[0mpd\u001b[0m\u001b[0;34m\u001b[0m\u001b[0;34m\u001b[0m\u001b[0m\n\u001b[1;32m      5\u001b[0m \u001b[0;32mimport\u001b[0m \u001b[0mmatplotlib\u001b[0m\u001b[0;34m.\u001b[0m\u001b[0mpyplot\u001b[0m \u001b[0;32mas\u001b[0m \u001b[0mplt\u001b[0m\u001b[0;34m\u001b[0m\u001b[0;34m\u001b[0m\u001b[0m\n\u001b[0;32m----> 6\u001b[0;31m \u001b[0;32mfrom\u001b[0m \u001b[0mtaIndicators\u001b[0m \u001b[0;32mimport\u001b[0m \u001b[0mbasic\u001b[0m\u001b[0;34m,\u001b[0m \u001b[0mmomentum\u001b[0m\u001b[0;34m\u001b[0m\u001b[0;34m\u001b[0m\u001b[0m\n\u001b[0m\u001b[1;32m      7\u001b[0m \u001b[0;34m\u001b[0m\u001b[0m\n\u001b[1;32m      8\u001b[0m \u001b[0;32mfrom\u001b[0m \u001b[0mpandas\u001b[0m\u001b[0;34m.\u001b[0m\u001b[0mplotting\u001b[0m \u001b[0;32mimport\u001b[0m \u001b[0mscatter_matrix\u001b[0m\u001b[0;34m\u001b[0m\u001b[0;34m\u001b[0m\u001b[0m\n",
      "\u001b[0;31mModuleNotFoundError\u001b[0m: No module named 'taIndicators'"
     ]
    }
   ],
   "source": [
    "%matplotlib inline\n",
    "\n",
    "import requests\n",
    "import pandas as pd \n",
    "import matplotlib.pyplot as plt\n",
    "from taIndicators import basic, momentum\n",
    "\n",
    "from pandas.plotting import scatter_matrix\n",
    "\n",
    "from sklearn.linear_model import LinearRegression, Ridge\n",
    "from sklearn.ensemble import RandomForestClassifier\n",
    "\n",
    "from sklearn.metrics import r2_score\n",
    "from sklearn.metrics import classification_report, confusion_matrix\n",
    "from sklearn.metrics import mean_squared_error as mse\n",
    "from sklearn.model_selection import train_test_split, time_series_split\n",
    "\n",
    "import time\n",
    "\n",
    "START_DATE = '2011-01-03'\n",
    "END_DATE = '2019-04-03'\n",
    "YEARLY_TRADING_DAYS = 252\n",
    "MONTHLY_TRADING_DAYS = 21"
   ]
  },
  {
   "cell_type": "code",
   "execution_count": null,
   "metadata": {},
   "outputs": [],
   "source": [
    "# import files and convert to dataframe\n",
    "file_name = \"data/spy-momentum.csv\"\n",
    "df = pd.read_csv(file_name)"
   ]
  },
  {
   "cell_type": "code",
   "execution_count": null,
   "metadata": {},
   "outputs": [],
   "source": [
    "df.set_index(['Symbol', 'Date'], inplace=True)"
   ]
  },
  {
   "cell_type": "code",
   "execution_count": null,
   "metadata": {},
   "outputs": [],
   "source": [
    "df.drop(columns=['Pct_Change_Class','Rolling_Yearly_Mean_Price', 'Rolling_Monthly_Mean_Price', 'Rolling_Monthly_Mean_Positive_Days', 'Rolling_Yearly_Mean_Positive_Days', 'High', 'Low', 'Open', 'Close'], inplace=True)"
   ]
  },
  {
   "cell_type": "code",
   "execution_count": null,
   "metadata": {},
   "outputs": [],
   "source": [
    "target_AdjClose = df.groupby(level=0)['AdjClose'].shift(-1 * MONTHLY_TRADING_DAYS)\n",
    "target_return_rank_monthly = df.groupby(level=0)['Monthly_Return_Rank'].shift(-1 * MONTHLY_TRADING_DAYS)"
   ]
  },
  {
   "cell_type": "code",
   "execution_count": 2,
   "metadata": {},
   "outputs": [
    {
     "ename": "NameError",
     "evalue": "name 'target_AdjClose' is not defined",
     "output_type": "error",
     "traceback": [
      "\u001b[0;31m---------------------------------------------------------------------------\u001b[0m",
      "\u001b[0;31mNameError\u001b[0m                                 Traceback (most recent call last)",
      "\u001b[0;32m<ipython-input-2-377dee9159de>\u001b[0m in \u001b[0;36m<module>\u001b[0;34m\u001b[0m\n\u001b[0;32m----> 1\u001b[0;31m \u001b[0mdf\u001b[0m\u001b[0;34m[\u001b[0m\u001b[0;34m'target_AdjClose'\u001b[0m\u001b[0;34m]\u001b[0m \u001b[0;34m=\u001b[0m \u001b[0mtarget_AdjClose\u001b[0m\u001b[0;34m.\u001b[0m\u001b[0mvalues\u001b[0m\u001b[0;34m\u001b[0m\u001b[0;34m\u001b[0m\u001b[0m\n\u001b[0m\u001b[1;32m      2\u001b[0m \u001b[0mdf\u001b[0m\u001b[0;34m[\u001b[0m\u001b[0;34m'target_return_rank'\u001b[0m\u001b[0;34m]\u001b[0m \u001b[0;34m=\u001b[0m \u001b[0mtarget_return_rank_monthly\u001b[0m\u001b[0;34m\u001b[0m\u001b[0;34m\u001b[0m\u001b[0m\n",
      "\u001b[0;31mNameError\u001b[0m: name 'target_AdjClose' is not defined"
     ]
    }
   ],
   "source": [
    "df['target_AdjClose'] = target_AdjClose.values\n",
    "df['target_return_rank'] = target_return_rank_monthly"
   ]
  },
  {
   "cell_type": "code",
   "execution_count": 3,
   "metadata": {},
   "outputs": [
    {
     "ename": "NameError",
     "evalue": "name 'df' is not defined",
     "output_type": "error",
     "traceback": [
      "\u001b[0;31m---------------------------------------------------------------------------\u001b[0m",
      "\u001b[0;31mNameError\u001b[0m                                 Traceback (most recent call last)",
      "\u001b[0;32m<ipython-input-3-c7e4e2402e97>\u001b[0m in \u001b[0;36m<module>\u001b[0;34m\u001b[0m\n\u001b[0;32m----> 1\u001b[0;31m \u001b[0mdf\u001b[0m\u001b[0;34m[\u001b[0m\u001b[0;34m'target_isUp'\u001b[0m\u001b[0;34m]\u001b[0m \u001b[0;34m=\u001b[0m \u001b[0mdf\u001b[0m\u001b[0;34m[\u001b[0m\u001b[0;34m'target_AdjClose'\u001b[0m\u001b[0;34m]\u001b[0m\u001b[0;34m\u001b[0m\u001b[0;34m\u001b[0m\u001b[0m\n\u001b[0m\u001b[1;32m      2\u001b[0m \u001b[0mdf\u001b[0m\u001b[0;34m[\u001b[0m\u001b[0;34m'target_isTop100'\u001b[0m\u001b[0;34m]\u001b[0m \u001b[0;34m=\u001b[0m \u001b[0mdf\u001b[0m\u001b[0;34m[\u001b[0m\u001b[0;34m'target_return_rank'\u001b[0m\u001b[0;34m]\u001b[0m\u001b[0;34m\u001b[0m\u001b[0;34m\u001b[0m\u001b[0m\n",
      "\u001b[0;31mNameError\u001b[0m: name 'df' is not defined"
     ]
    }
   ],
   "source": [
    "df['target_isUp'] = df['target_AdjClose']\n",
    "df['target_isTop100'] = df['target_return_rank']"
   ]
  },
  {
   "cell_type": "code",
   "execution_count": 524,
   "metadata": {},
   "outputs": [],
   "source": [
    "topTile = 100\n",
    "df['target_isUp'].where(df['target_AdjClose'] > df['AdjClose'], other=0, inplace=True)\n",
    "df['target_isUp'].where(df['target_AdjClose'] < df['AdjClose'], other=1, inplace=True)\n",
    "df['target_isTop100'].where(df['target_return_rank'] > topTile, other=1, inplace=True)\n",
    "df['target_isTop100'].where(df['target_return_rank'] < topTile, other=0, inplace=True)"
   ]
  },
  {
   "cell_type": "markdown",
   "metadata": {},
   "source": [
    "# # Run Simple Random Forest Classifier Model on the momentum dataset"
   ]
  },
  {
   "cell_type": "code",
   "execution_count": 525,
   "metadata": {},
   "outputs": [],
   "source": [
    "ticker = 'AAPL' # choose ticker to run through the model"
   ]
  },
  {
   "cell_type": "code",
   "execution_count": 526,
   "metadata": {},
   "outputs": [],
   "source": [
    "feature_list = [\"AdjClose\", \"Pct_Change_Daily\", \"Pct_Change_Monthly\", \"Pct_Change_Yearly\", \"RSI\", \"Volatility\",\n",
    "               \"Yearly_Return_Rank\", \"Monthly_Return_Rank\", \"Momentum_Quality_Monthly\", \"Momentum_Quality_Yearly\",\n",
    "               \"SPY_Trailing_Month_Return\"]\n",
    "target_label_isTop100 = \"target_isTop100\"\n",
    "target_label_isUp = \"target_isUp\""
   ]
  },
  {
   "cell_type": "code",
   "execution_count": 527,
   "metadata": {},
   "outputs": [],
   "source": [
    "df_stock = df.loc[ticker]\n",
    "#df_stock.reset_index(inplace=True)\n",
    "#df_stock.drop(columns=['Date'], inplace=True)\n",
    "df_stock = df_stock.shift(-1 * MONTHLY_TRADING_DAYS)"
   ]
  },
  {
   "cell_type": "code",
   "execution_count": 528,
   "metadata": {},
   "outputs": [
    {
     "data": {
      "text/html": [
       "<div>\n",
       "<style scoped>\n",
       "    .dataframe tbody tr th:only-of-type {\n",
       "        vertical-align: middle;\n",
       "    }\n",
       "\n",
       "    .dataframe tbody tr th {\n",
       "        vertical-align: top;\n",
       "    }\n",
       "\n",
       "    .dataframe thead th {\n",
       "        text-align: right;\n",
       "    }\n",
       "</style>\n",
       "<table border=\"1\" class=\"dataframe\">\n",
       "  <thead>\n",
       "    <tr style=\"text-align: right;\">\n",
       "      <th></th>\n",
       "      <th>Volume</th>\n",
       "      <th>AdjClose</th>\n",
       "      <th>Pct_Change_Daily</th>\n",
       "      <th>Pct_Change_Monthly</th>\n",
       "      <th>Pct_Change_Yearly</th>\n",
       "      <th>RSI</th>\n",
       "      <th>Volatility</th>\n",
       "      <th>Yearly_Return_Rank</th>\n",
       "      <th>Monthly_Return_Rank</th>\n",
       "      <th>Momentum_Quality_Monthly</th>\n",
       "      <th>Momentum_Quality_Yearly</th>\n",
       "      <th>SPY_Trailing_Month_Return</th>\n",
       "      <th>target_AdjClose</th>\n",
       "      <th>target_return_rank</th>\n",
       "      <th>target_isUp</th>\n",
       "      <th>target_isTop100</th>\n",
       "    </tr>\n",
       "    <tr>\n",
       "      <th>Date</th>\n",
       "      <th></th>\n",
       "      <th></th>\n",
       "      <th></th>\n",
       "      <th></th>\n",
       "      <th></th>\n",
       "      <th></th>\n",
       "      <th></th>\n",
       "      <th></th>\n",
       "      <th></th>\n",
       "      <th></th>\n",
       "      <th></th>\n",
       "      <th></th>\n",
       "      <th></th>\n",
       "      <th></th>\n",
       "      <th></th>\n",
       "      <th></th>\n",
       "    </tr>\n",
       "  </thead>\n",
       "  <tbody>\n",
       "    <tr>\n",
       "      <th>2011-01-03</th>\n",
       "      <td>64738800.0</td>\n",
       "      <td>32.799084</td>\n",
       "      <td>-0.002058</td>\n",
       "      <td>0.044755</td>\n",
       "      <td>NaN</td>\n",
       "      <td>59.505790</td>\n",
       "      <td>NaN</td>\n",
       "      <td>NaN</td>\n",
       "      <td>171.0</td>\n",
       "      <td>0.639358</td>\n",
       "      <td>NaN</td>\n",
       "      <td>0.027076</td>\n",
       "      <td>34.292721</td>\n",
       "      <td>154.0</td>\n",
       "      <td>1.0</td>\n",
       "      <td>0.0</td>\n",
       "    </tr>\n",
       "    <tr>\n",
       "      <th>2011-01-04</th>\n",
       "      <td>98449400.0</td>\n",
       "      <td>32.715263</td>\n",
       "      <td>-0.002556</td>\n",
       "      <td>0.036675</td>\n",
       "      <td>NaN</td>\n",
       "      <td>58.765410</td>\n",
       "      <td>NaN</td>\n",
       "      <td>NaN</td>\n",
       "      <td>219.0</td>\n",
       "      <td>0.174642</td>\n",
       "      <td>NaN</td>\n",
       "      <td>0.029926</td>\n",
       "      <td>33.850731</td>\n",
       "      <td>143.0</td>\n",
       "      <td>1.0</td>\n",
       "      <td>0.0</td>\n",
       "    </tr>\n",
       "    <tr>\n",
       "      <th>2011-01-05</th>\n",
       "      <td>80460100.0</td>\n",
       "      <td>33.006752</td>\n",
       "      <td>0.008910</td>\n",
       "      <td>0.037425</td>\n",
       "      <td>NaN</td>\n",
       "      <td>60.561643</td>\n",
       "      <td>NaN</td>\n",
       "      <td>NaN</td>\n",
       "      <td>214.0</td>\n",
       "      <td>0.178216</td>\n",
       "      <td>NaN</td>\n",
       "      <td>0.027499</td>\n",
       "      <td>33.888828</td>\n",
       "      <td>199.0</td>\n",
       "      <td>1.0</td>\n",
       "      <td>0.0</td>\n",
       "    </tr>\n",
       "    <tr>\n",
       "      <th>2011-01-06</th>\n",
       "      <td>121255400.0</td>\n",
       "      <td>33.519241</td>\n",
       "      <td>0.015527</td>\n",
       "      <td>0.054386</td>\n",
       "      <td>NaN</td>\n",
       "      <td>63.503939</td>\n",
       "      <td>NaN</td>\n",
       "      <td>NaN</td>\n",
       "      <td>188.0</td>\n",
       "      <td>0.776937</td>\n",
       "      <td>NaN</td>\n",
       "      <td>0.035953</td>\n",
       "      <td>33.575436</td>\n",
       "      <td>269.0</td>\n",
       "      <td>1.0</td>\n",
       "      <td>0.0</td>\n",
       "    </tr>\n",
       "    <tr>\n",
       "      <th>2011-01-07</th>\n",
       "      <td>95260200.0</td>\n",
       "      <td>33.835499</td>\n",
       "      <td>0.009435</td>\n",
       "      <td>0.056766</td>\n",
       "      <td>NaN</td>\n",
       "      <td>65.190855</td>\n",
       "      <td>NaN</td>\n",
       "      <td>NaN</td>\n",
       "      <td>204.0</td>\n",
       "      <td>0.810941</td>\n",
       "      <td>NaN</td>\n",
       "      <td>0.042709</td>\n",
       "      <td>33.022934</td>\n",
       "      <td>272.0</td>\n",
       "      <td>0.0</td>\n",
       "      <td>0.0</td>\n",
       "    </tr>\n",
       "  </tbody>\n",
       "</table>\n",
       "</div>"
      ],
      "text/plain": [
       "                 Volume   AdjClose  Pct_Change_Daily  Pct_Change_Monthly  \\\n",
       "Date                                                                       \n",
       "2011-01-03   64738800.0  32.799084         -0.002058            0.044755   \n",
       "2011-01-04   98449400.0  32.715263         -0.002556            0.036675   \n",
       "2011-01-05   80460100.0  33.006752          0.008910            0.037425   \n",
       "2011-01-06  121255400.0  33.519241          0.015527            0.054386   \n",
       "2011-01-07   95260200.0  33.835499          0.009435            0.056766   \n",
       "\n",
       "            Pct_Change_Yearly        RSI  Volatility  Yearly_Return_Rank  \\\n",
       "Date                                                                       \n",
       "2011-01-03                NaN  59.505790         NaN                 NaN   \n",
       "2011-01-04                NaN  58.765410         NaN                 NaN   \n",
       "2011-01-05                NaN  60.561643         NaN                 NaN   \n",
       "2011-01-06                NaN  63.503939         NaN                 NaN   \n",
       "2011-01-07                NaN  65.190855         NaN                 NaN   \n",
       "\n",
       "            Monthly_Return_Rank  Momentum_Quality_Monthly  \\\n",
       "Date                                                        \n",
       "2011-01-03                171.0                  0.639358   \n",
       "2011-01-04                219.0                  0.174642   \n",
       "2011-01-05                214.0                  0.178216   \n",
       "2011-01-06                188.0                  0.776937   \n",
       "2011-01-07                204.0                  0.810941   \n",
       "\n",
       "            Momentum_Quality_Yearly  SPY_Trailing_Month_Return  \\\n",
       "Date                                                             \n",
       "2011-01-03                      NaN                   0.027076   \n",
       "2011-01-04                      NaN                   0.029926   \n",
       "2011-01-05                      NaN                   0.027499   \n",
       "2011-01-06                      NaN                   0.035953   \n",
       "2011-01-07                      NaN                   0.042709   \n",
       "\n",
       "            target_AdjClose  target_return_rank  target_isUp  target_isTop100  \n",
       "Date                                                                           \n",
       "2011-01-03        34.292721               154.0          1.0              0.0  \n",
       "2011-01-04        33.850731               143.0          1.0              0.0  \n",
       "2011-01-05        33.888828               199.0          1.0              0.0  \n",
       "2011-01-06        33.575436               269.0          1.0              0.0  \n",
       "2011-01-07        33.022934               272.0          0.0              0.0  "
      ]
     },
     "execution_count": 528,
     "metadata": {},
     "output_type": "execute_result"
    }
   ],
   "source": [
    "df_stock.head()"
   ]
  },
  {
   "cell_type": "code",
   "execution_count": 529,
   "metadata": {},
   "outputs": [],
   "source": [
    "df_stock = pd.DataFrame(df_stock).fillna(0)"
   ]
  },
  {
   "cell_type": "code",
   "execution_count": 530,
   "metadata": {},
   "outputs": [],
   "source": [
    "stock_features = df_stock[feature_list]\n",
    "stock_labels_top100 = df_stock[target_label_isTop100]\n",
    "stock_labels_isUp = df_stock[target_label_isUp]"
   ]
  },
  {
   "cell_type": "code",
   "execution_count": 531,
   "metadata": {},
   "outputs": [],
   "source": [
    "def basic_random_forest_classifier(stock_features, stock_labels, test_size=.2):\n",
    "    X_train, X_test, y_train, y_test = train_test_split(stock_features, stock_labels, test_size=test_size)\n",
    "    model = RandomForestClassifier()\n",
    "    model.fit(X_train, y_train)\n",
    "\n",
    "    expected = y_test\n",
    "    predicted = model.predict(X_test)\n",
    "\n",
    "    print('Random Forest model')\n",
    "    #print(\"Stock Percent Up Days: \", expected.mean(), \"\\n\\n\")\n",
    "    print(\"Accuracy:\",metrics.accuracy_score(expected, predicted))\n",
    "    print(classification_report(expected, predicted))\n",
    "    print(confusion_matrix(expected, predicted))"
   ]
  },
  {
   "cell_type": "markdown",
   "metadata": {},
   "source": [
    "## Use Random Forest Classification to try to predict whether a stock's return will be ranked in the top 100 of the s&p 500"
   ]
  },
  {
   "cell_type": "code",
   "execution_count": 532,
   "metadata": {},
   "outputs": [
    {
     "name": "stdout",
     "output_type": "stream",
     "text": [
      "Random Forest model\n",
      "Accuracy: 0.8725961538461539\n",
      "              precision    recall  f1-score   support\n",
      "\n",
      "         0.0       0.88      0.96      0.92       304\n",
      "         1.0       0.86      0.63      0.73       112\n",
      "\n",
      "   micro avg       0.87      0.87      0.87       416\n",
      "   macro avg       0.87      0.80      0.82       416\n",
      "weighted avg       0.87      0.87      0.87       416\n",
      "\n",
      "[[292  12]\n",
      " [ 41  71]]\n"
     ]
    },
    {
     "name": "stderr",
     "output_type": "stream",
     "text": [
      "/Users/georgekrug/anaconda3/envs/tenv/lib/python3.6/site-packages/sklearn/ensemble/forest.py:246: FutureWarning: The default value of n_estimators will change from 10 in version 0.20 to 100 in 0.22.\n",
      "  \"10 in version 0.20 to 100 in 0.22.\", FutureWarning)\n"
     ]
    }
   ],
   "source": [
    "basic_random_forest_classifier(stock_features, stock_labels_top100)"
   ]
  },
  {
   "cell_type": "markdown",
   "metadata": {},
   "source": [
    "## Use Random Forest Classifcation to try to predict whether a stock will have a positive return in the next month"
   ]
  },
  {
   "cell_type": "code",
   "execution_count": 533,
   "metadata": {},
   "outputs": [
    {
     "name": "stdout",
     "output_type": "stream",
     "text": [
      "Random Forest model\n",
      "Accuracy: 0.8485576923076923\n",
      "              precision    recall  f1-score   support\n",
      "\n",
      "         0.0       0.79      0.84      0.81       163\n",
      "         1.0       0.89      0.85      0.87       253\n",
      "\n",
      "   micro avg       0.85      0.85      0.85       416\n",
      "   macro avg       0.84      0.85      0.84       416\n",
      "weighted avg       0.85      0.85      0.85       416\n",
      "\n",
      "[[137  26]\n",
      " [ 37 216]]\n"
     ]
    },
    {
     "name": "stderr",
     "output_type": "stream",
     "text": [
      "/Users/georgekrug/anaconda3/envs/tenv/lib/python3.6/site-packages/sklearn/ensemble/forest.py:246: FutureWarning: The default value of n_estimators will change from 10 in version 0.20 to 100 in 0.22.\n",
      "  \"10 in version 0.20 to 100 in 0.22.\", FutureWarning)\n"
     ]
    }
   ],
   "source": [
    "basic_random_forest_classifier(stock_features, stock_labels_isUp)"
   ]
  },
  {
   "cell_type": "code",
   "execution_count": null,
   "metadata": {},
   "outputs": [],
   "source": []
  }
 ],
 "metadata": {
  "kernelspec": {
   "display_name": "Python 3",
   "language": "python",
   "name": "python3"
  },
  "language_info": {
   "codemirror_mode": {
    "name": "ipython",
    "version": 3
   },
   "file_extension": ".py",
   "mimetype": "text/x-python",
   "name": "python",
   "nbconvert_exporter": "python",
   "pygments_lexer": "ipython3",
   "version": "3.6.8"
  }
 },
 "nbformat": 4,
 "nbformat_minor": 2
}
